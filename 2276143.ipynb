{
 "cells": [
  {
   "cell_type": "markdown",
   "metadata": {
    "collapsed": false
   },
   "source": [
    "# [AI训练营]PaddleSeg实现语义分割Baseline\n",
    "\n",
    "手把手教你基于PaddleSeg实现语义分割任务\n",
    "\n",
    "------\n",
    "\n",
    "\n",
    "# 一、作业任务\n",
    "\n",
    "> 本次任务将基于PaddleSeg展开语义分割任务的学习与实践，baseline会提供PaddleSeg套件的基本使用，相关细节如有遗漏，可参考[10分钟上手PaddleSeg\n",
    "](https://aistudio.baidu.com/aistudio/projectdetail/1672610?channelType=0&channel=0)\n",
    "\n",
    "1. 选择提供的**五个数据集**中的一个数据集作为本次作业的训练数据，并**根据baseline跑通项目**\n",
    "\n",
    "2. **可视化1-3张**预测图片与预测结果（本次提供的数据集没有验证与测试集，可将训练数据直接进行预测，展示训练数据的预测结果即可）\n",
    "\n",
    "\n",
    "**加分项:**\n",
    "\n",
    "3. 尝试**划分验证集**，再进行训练\n",
    "\n",
    "4. 选择**其他网络**，调整训练参数进行更好的尝试\n",
    "\n",
    "\n",
    "**PS**:PaddleSeg相关参考项目:\n",
    "\n",
    "- [常规赛：PALM病理性近视病灶检测与分割基线方案](https://aistudio.baidu.com/aistudio/projectdetail/1941312)\n",
    "\n",
    "- [PaddleSeg 2.0动态图：车道线图像分割任务简介](https://aistudio.baidu.com/aistudio/projectdetail/1752986?channelType=0&channel=0)\n",
    "\n",
    "------\n",
    "\n",
    "------\n",
    "\n",
    "# 二、数据集说明\n",
    "\n",
    "------\n",
    "\n",
    "本项目使用的数据集是:[AI训练营]语义分割数据集合集，包含马分割，眼底血管分割，车道线分割，场景分割以及人像分割。\n",
    "\n",
    "该数据集已加载到本环境中，位于:\n",
    "\n",
    "**data/data103787/segDataset.zip**\n"
   ]
  },
  {
   "cell_type": "code",
   "execution_count": 1,
   "metadata": {
    "collapsed": false
   },
   "outputs": [],
   "source": [
    "# unzip: 解压指令\r\n",
    "# -o: 表示解压后进行输出\r\n",
    "# -q: 表示静默模式，即不输出解压过程的日志\r\n",
    "# -d: 解压到指定目录下，如果该文件夹不存在，会自动创建\r\n",
    "!unzip -oq data/data103787/segDataset.zip -d segDataset"
   ]
  },
  {
   "cell_type": "markdown",
   "metadata": {
    "collapsed": false
   },
   "source": [
    "解压完成后，会在左侧文件目录多出一个**segDataset**的文件夹，该文件夹下有**5**个子文件夹：\n",
    "\n",
    "- **horse -- 马分割数据**<二分类任务>\n",
    "\n",
    "![](https://ai-studio-static-online.cdn.bcebos.com/2b12a7fab9ee409587a2aec332a70ba2bce0fcc4a10345a4aa38941db65e8d02)\n",
    "\n",
    "- **fundusVessels -- 眼底血管分割数据**\n",
    "\n",
    "> 灰度图，每个像素值对应相应的类别 -- 因此label不宜观察，但符合套件训练需要\n",
    "\n",
    "![](https://ai-studio-static-online.cdn.bcebos.com/b515662defe548bdaa517b879722059ad53b5d87dd82441c8c4611124f6fdad0)\n",
    "\n",
    "- **laneline -- 车道线分割数据**\n",
    "\n",
    "![](https://ai-studio-static-online.cdn.bcebos.com/2aeccfe514e24cf98459df7c36421cddf78d9ddfc2cf41ffa4aafc10b13c8802)\n",
    "\n",
    "- **facade -- 场景分割数据**\n",
    "\n",
    "![](https://ai-studio-static-online.cdn.bcebos.com/57752d86fc5c4a10a3e4b91ae05a3e38d57d174419be4afeba22eb75b699112c)\n",
    "\n",
    "- **cocome -- 人像分割数据**\n",
    "\n",
    "> label非直接的图片，为json格式的标注文件，有需要的小伙伴可以看一看PaddleSeg的[PaddleSeg实战——人像分割](https://aistudio.baidu.com/aistudio/projectdetail/2177440?channelType=0&channel=0)"
   ]
  },
  {
   "cell_type": "code",
   "execution_count": 2,
   "metadata": {
    "collapsed": false
   },
   "outputs": [
    {
     "name": "stdout",
     "output_type": "stream",
     "text": [
      "segDataset\r\n",
      "├── cocome\r\n",
      "│   ├── Annotations\r\n",
      "│   └── Images\r\n",
      "├── facade\r\n",
      "│   ├── Annotations\r\n",
      "│   └── Images\r\n",
      "├── FundusVessels\r\n",
      "│   ├── Annotations\r\n",
      "│   └── Images\r\n",
      "├── horse\r\n",
      "│   ├── Annotations\r\n",
      "│   └── Images\r\n",
      "└── laneline\r\n",
      "    ├── Annotations\r\n",
      "    └── Images\r\n",
      "\r\n",
      "15 directories, 0 files\r\n"
     ]
    }
   ],
   "source": [
    "# tree: 查看文件夹树状结构\r\n",
    "# -L: 表示遍历深度\r\n",
    "!tree segDataset -L 2"
   ]
  },
  {
   "cell_type": "markdown",
   "metadata": {
    "collapsed": false
   },
   "source": [
    "> 查看数据label的像素分布，可从中得知分割任务的类别数： 脚本位于: **show_segDataset_label_cls_id.py**\n",
    "\n",
    "> 关于人像分割数据分析，这里不做提示，可参考[PaddleSeg实战——人像分割](https://aistudio.baidu.com/aistudio/projectdetail/2177440?channelType=0&channel=0)"
   ]
  },
  {
   "cell_type": "code",
   "execution_count": 3,
   "metadata": {
    "collapsed": false
   },
   "outputs": [
    {
     "name": "stdout",
     "output_type": "stream",
     "text": [
      "100%|████████████████████████████████████████| 328/328 [00:00<00:00, 974.69it/s]\n",
      "horse-cls_id:  [0, 1, 2, 3, 4, 5, 6, 7, 8, 9, 10, 11, 12, 13, 14, 15, 16, 17, 18, 19, 20, 21, 22, 23, 24, 25, 26, 27, 28, 29, 30, 31, 32, 33, 34, 35, 36, 37, 38, 39, 40, 41, 42, 43, 44, 45, 211, 212, 213, 214, 216, 217, 218, 219, 220, 221, 222, 223, 224, 225, 226, 227, 228, 229, 230, 231, 232, 233, 234, 235, 236, 237, 238, 239, 240, 241, 242, 243, 244, 245, 246, 247, 248, 249, 250, 251, 252, 253, 254, 255]\n",
      "horse为90分类\n",
      "horse实际应转换为2分类(将非0像素转换为像素值为1)\n",
      "\n",
      "\n",
      "100%|████████████████████████████████████████| 845/845 [00:04<00:00, 197.85it/s]\n",
      "facade-cls_id:  [0, 1, 2, 3, 4, 5, 6, 7, 8]\n",
      "facade为9分类\n",
      "\n",
      "\n",
      "100%|████████████████████████████████████████| 200/200 [00:01<00:00, 184.53it/s]\n",
      "fundusvessels-cls_id:  [0, 1]\n",
      "fundusvessels为2分类\n",
      "\n",
      "\n",
      "100%|███████████████████████████████████████| 4878/4878 [01:30<00:00, 53.61it/s]\n",
      "laneline-cls_id:  [0, 1, 2, 3, 4, 5, 6, 7, 8, 9, 10, 11, 12, 13, 14, 15, 16, 17, 18, 19]\n",
      "laneline为20分类\n"
     ]
    }
   ],
   "source": [
    "# 查看label中像素分类情况\r\n",
    "!python show_segDataset_label_cls_id.py"
   ]
  },
  {
   "cell_type": "markdown",
   "metadata": {
    "collapsed": false
   },
   "source": [
    "# 三、数据预处理\n",
    "\n",
    "> 这里就以horse数据作为示例\n",
    "\n",
    "-----\n",
    "\n",
    "- 首先，通过上边的像素值分析以及horse本身的标签表现，我们确定horse数据集为二分类任务\n",
    "\n",
    "- 然而，实际label中，却包含多个像素值，因此需要将horse中的所有label进行一个预处理\n",
    "\n",
    "- 预处理内容为: 0值不变，非0值变为1，然后再保存label\n",
    "\n",
    "- **并且保存文件格式为png，单通道图片为Label图片，最好保存为png——否则可能出现异常像素**\n",
    "\n",
    "**对应horse的预处理脚本，位于:**\n",
    "\n",
    "parse_horse_label.py"
   ]
  },
  {
   "cell_type": "code",
   "execution_count": 4,
   "metadata": {
    "collapsed": false
   },
   "outputs": [
    {
     "name": "stdout",
     "output_type": "stream",
     "text": [
      "100%|████████████████████████████████████████| 328/328 [00:00<00:00, 395.67it/s]\n",
      "[0, 1]\n",
      "100%|███████████████████████████████████████| 328/328 [00:00<00:00, 1120.74it/s]\n",
      "horse-cls_id:  [0, 1]\n",
      "horse为2分类\n"
     ]
    }
   ],
   "source": [
    "!python parse_horse_label.py"
   ]
  },
  {
   "cell_type": "markdown",
   "metadata": {
    "collapsed": false
   },
   "source": [
    "- 预处理完成后，配置训练的索引文件txt，方便后边套件读取数据\n",
    "\n",
    "> txt创建脚本位于: **horse_create_train_list.py**\n",
    "\n",
    "> 同时，生成的txt位于: **segDataset/horse/train_list.txt**"
   ]
  },
  {
   "cell_type": "code",
   "execution_count": 5,
   "metadata": {
    "collapsed": false
   },
   "outputs": [
    {
     "name": "stdout",
     "output_type": "stream",
     "text": [
      "100%|██████████████████████████████████████| 328/328 [00:00<00:00, 10328.39it/s]\n"
     ]
    }
   ],
   "source": [
    "# 创建训练的数据索引txt\r\n",
    "# 格式如下\r\n",
    "# line1: train_img1.jpg train_label1.png\r\n",
    "# line2: train_img2.jpg train_label2.png\r\n",
    "!python horse_create_train_list.py"
   ]
  },
  {
   "cell_type": "markdown",
   "metadata": {
    "collapsed": false
   },
   "source": [
    "# 四、使用套件开始训练\n",
    "\n",
    "- 1.解压套件: 已挂载到本项目, 位于:**data/data102250/PaddleSeg-release-2.1.zip**"
   ]
  },
  {
   "cell_type": "code",
   "execution_count": 6,
   "metadata": {
    "collapsed": false
   },
   "outputs": [],
   "source": [
    "# 解压套件\r\n",
    "!unzip -oq data/data102250/PaddleSeg-release-2.1.zip\r\n",
    "# 通过mv指令实现文件夹重命名\r\n",
    "!mv PaddleSeg-release-2.1 PaddleSeg"
   ]
  },
  {
   "cell_type": "markdown",
   "metadata": {
    "collapsed": false
   },
   "source": [
    "- 2.选择模型，baseline选择**bisenet**, 位于: **PaddleSeg/configs/quick_start/bisenet_optic_disc_512x512_1k.yml**"
   ]
  },
  {
   "cell_type": "markdown",
   "metadata": {
    "collapsed": false
   },
   "source": [
    "- 3.配置模型文件\n",
    "\n",
    "> 首先修改训练数据集加载的dataset类型:\n",
    "\n",
    "![](https://ai-studio-static-online.cdn.bcebos.com/2f5363d71034490290f720ea8bb0d6873d7df2712d4b4e84ae41b0378aed8b89)\n",
    "\n",
    "> 然后配置训练数据集如下:\n",
    "\n",
    "![](https://ai-studio-static-online.cdn.bcebos.com/29547856db4b4bfc80aa3732e143f2788589f9316c694f369c9bd1da44b815dc)\n",
    "\n",
    "> 类似的，配置验证数据集: -- **注意修改train_path为val_path**\n",
    "\n",
    "![](https://ai-studio-static-online.cdn.bcebos.com/09713aaaed6b4611a525d25aae67e4f0538224f7ac0241eb941d97892bf6c4c1)\n",
    "\n",
    "<font color=\"red\" size=4>其它模型可能需要到: PaddleSeg/configs/$_base_$  中的数据集文件进行配置，但修改参数与bisenet中的数据集修改参数相同 </font>\n",
    "\n",
    "![](https://ai-studio-static-online.cdn.bcebos.com/b154dcbf15e14f43aa13455c0ceeaaebe0489c9a09dd439f9d32e8b0a31355ec)\n"
   ]
  },
  {
   "cell_type": "markdown",
   "metadata": {
    "collapsed": false
   },
   "source": [
    "- 4.开始训练\n",
    "\n",
    "使用PaddleSeg的train.py，传入模型文件即可开启训练"
   ]
  },
  {
   "cell_type": "code",
   "execution_count": 7,
   "metadata": {
    "collapsed": false
   },
   "outputs": [
    {
     "name": "stdout",
     "output_type": "stream",
     "text": [
      "/opt/conda/envs/python35-paddle120-env/lib/python3.7/site-packages/paddle/fluid/layers/utils.py:26: DeprecationWarning: `np.int` is a deprecated alias for the builtin `int`. To silence this warning, use `int` by itself. Doing this will not modify any behavior and is safe. When replacing `np.int`, you may wish to use e.g. `np.int64` or `np.int32` to specify the precision. If you wish to review your current use, check the release note link for additional information.\n",
      "Deprecated in NumPy 1.20; for more details and guidance: https://numpy.org/devdocs/release/1.20.0-notes.html#deprecations\n",
      "  def convert_to_list(value, n, name, dtype=np.int):\n",
      "/home/aistudio/PaddleSeg/paddleseg/cvlibs/param_init.py:89: DeprecationWarning: invalid escape sequence \\s\n",
      "  \"\"\"\n",
      "/home/aistudio/PaddleSeg/paddleseg/models/losses/binary_cross_entropy_loss.py:82: DeprecationWarning: invalid escape sequence \\|\n",
      "  \"\"\"\n",
      "/home/aistudio/PaddleSeg/paddleseg/models/losses/lovasz_loss.py:50: DeprecationWarning: invalid escape sequence \\i\n",
      "  \"\"\"\n",
      "/home/aistudio/PaddleSeg/paddleseg/models/losses/lovasz_loss.py:77: DeprecationWarning: invalid escape sequence \\i\n",
      "  \"\"\"\n",
      "/home/aistudio/PaddleSeg/paddleseg/models/losses/lovasz_loss.py:120: DeprecationWarning: invalid escape sequence \\i\n",
      "  \"\"\"\n",
      "2021-08-13 11:20:24 [INFO]\t\n",
      "------------Environment Information-------------\n",
      "platform: Linux-4.4.0-150-generic-x86_64-with-debian-stretch-sid\n",
      "Python: 3.7.4 (default, Aug 13 2019, 20:35:49) [GCC 7.3.0]\n",
      "Paddle compiled with cuda: True\n",
      "NVCC: Cuda compilation tools, release 10.1, V10.1.243\n",
      "cudnn: 7.6\n",
      "GPUs used: 1\n",
      "CUDA_VISIBLE_DEVICES: None\n",
      "GPU: ['GPU 0: Tesla V100-SXM2-32GB']\n",
      "GCC: gcc (Ubuntu 7.5.0-3ubuntu1~16.04) 7.5.0\n",
      "PaddlePaddle: 2.0.2\n",
      "OpenCV: 4.1.1\n",
      "------------------------------------------------\n",
      "2021-08-13 11:20:24 [INFO]\t\n",
      "---------------Config Information---------------\n",
      "batch_size: 4\n",
      "iters: 2000\n",
      "loss:\n",
      "  coef:\n",
      "  - 1\n",
      "  - 1\n",
      "  - 1\n",
      "  - 1\n",
      "  - 1\n",
      "  types:\n",
      "  - ignore_index: 255\n",
      "    type: CrossEntropyLoss\n",
      "lr_scheduler:\n",
      "  end_lr: 0\n",
      "  learning_rate: 0.01\n",
      "  power: 0.9\n",
      "  type: PolynomialDecay\n",
      "model:\n",
      "  pretrained: null\n",
      "  type: BiSeNetV2\n",
      "optimizer:\n",
      "  momentum: 0.9\n",
      "  type: sgd\n",
      "  weight_decay: 4.0e-05\n",
      "train_dataset:\n",
      "  dataset_root: segDataset/horse\n",
      "  mode: train\n",
      "  num_classes: 2\n",
      "  train_path: segDataset/horse/train_list.txt\n",
      "  transforms:\n",
      "  - target_size:\n",
      "    - 512\n",
      "    - 512\n",
      "    type: Resize\n",
      "  - type: RandomHorizontalFlip\n",
      "  - type: Normalize\n",
      "  type: Dataset\n",
      "val_dataset:\n",
      "  dataset_root: segDataset/horse\n",
      "  mode: val\n",
      "  num_classes: 2\n",
      "  transforms:\n",
      "  - target_size:\n",
      "    - 512\n",
      "    - 512\n",
      "    type: Resize\n",
      "  - type: Normalize\n",
      "  type: Dataset\n",
      "  val_path: segDataset/horse/train_list.txt\n",
      "------------------------------------------------\n",
      "W0813 11:20:24.720755   835 device_context.cc:362] Please NOTE: device: 0, GPU Compute Capability: 7.0, Driver API Version: 10.1, Runtime API Version: 10.1\n",
      "W0813 11:20:24.720818   835 device_context.cc:372] device: 0, cuDNN Version: 7.6.\n",
      "/opt/conda/envs/python35-paddle120-env/lib/python3.7/site-packages/paddle/fluid/dataloader/dataloader_iter.py:89: DeprecationWarning: `np.bool` is a deprecated alias for the builtin `bool`. To silence this warning, use `bool` by itself. Doing this will not modify any behavior and is safe. If you specifically wanted the numpy scalar type, use `np.bool_` here.\n",
      "Deprecated in NumPy 1.20; for more details and guidance: https://numpy.org/devdocs/release/1.20.0-notes.html#deprecations\n",
      "  if isinstance(slot[0], (np.ndarray, np.bool, numbers.Number)):\n",
      "2021-08-13 11:20:32 [INFO]\t[TRAIN] epoch: 1, iter: 20/2000, loss: 3.0412, lr: 0.009914, batch_cost: 0.1093, reader_cost: 0.01300, ips: 36.6094 samples/sec | ETA 00:03:36\n",
      "2021-08-13 11:20:34 [INFO]\t[TRAIN] epoch: 1, iter: 40/2000, loss: 2.4766, lr: 0.009824, batch_cost: 0.0941, reader_cost: 0.00007, ips: 42.4983 samples/sec | ETA 00:03:04\n",
      "2021-08-13 11:20:36 [INFO]\t[TRAIN] epoch: 1, iter: 60/2000, loss: 2.1365, lr: 0.009734, batch_cost: 0.0918, reader_cost: 0.00008, ips: 43.5563 samples/sec | ETA 00:02:58\n",
      "2021-08-13 11:20:38 [INFO]\t[TRAIN] epoch: 1, iter: 80/2000, loss: 2.3350, lr: 0.009644, batch_cost: 0.0921, reader_cost: 0.00008, ips: 43.4516 samples/sec | ETA 00:02:56\n",
      "2021-08-13 11:20:40 [INFO]\t[TRAIN] epoch: 2, iter: 100/2000, loss: 2.0317, lr: 0.009553, batch_cost: 0.0961, reader_cost: 0.00369, ips: 41.6407 samples/sec | ETA 00:03:02\n",
      "2021-08-13 11:20:42 [INFO]\t[TRAIN] epoch: 2, iter: 120/2000, loss: 1.9597, lr: 0.009463, batch_cost: 0.0945, reader_cost: 0.00007, ips: 42.3217 samples/sec | ETA 00:02:57\n",
      "2021-08-13 11:20:43 [INFO]\t[TRAIN] epoch: 2, iter: 140/2000, loss: 1.9451, lr: 0.009372, batch_cost: 0.0924, reader_cost: 0.00025, ips: 43.3077 samples/sec | ETA 00:02:51\n",
      "2021-08-13 11:20:45 [INFO]\t[TRAIN] epoch: 2, iter: 160/2000, loss: 1.9334, lr: 0.009282, batch_cost: 0.0922, reader_cost: 0.00007, ips: 43.3627 samples/sec | ETA 00:02:49\n",
      "2021-08-13 11:20:47 [INFO]\t[TRAIN] epoch: 3, iter: 180/2000, loss: 1.8718, lr: 0.009191, batch_cost: 0.0964, reader_cost: 0.00380, ips: 41.4850 samples/sec | ETA 00:02:55\n",
      "2021-08-13 11:20:49 [INFO]\t[TRAIN] epoch: 3, iter: 200/2000, loss: 1.8275, lr: 0.009100, batch_cost: 0.0935, reader_cost: 0.00009, ips: 42.7880 samples/sec | ETA 00:02:48\n",
      "2021-08-13 11:20:49 [INFO]\tStart evaluating (total_samples: 328, total_iters: 328)...\n",
      "/opt/conda/envs/python35-paddle120-env/lib/python3.7/site-packages/paddle/fluid/dygraph/math_op_patch.py:238: UserWarning: The dtype of left and right variables are not the same, left dtype is VarType.INT32, but right dtype is VarType.BOOL, the right dtype will convert to VarType.INT32\n",
      "  format(lhs_dtype, rhs_dtype, lhs_dtype))\n",
      "/opt/conda/envs/python35-paddle120-env/lib/python3.7/site-packages/paddle/fluid/dygraph/math_op_patch.py:238: UserWarning: The dtype of left and right variables are not the same, left dtype is VarType.INT64, but right dtype is VarType.BOOL, the right dtype will convert to VarType.INT64\n",
      "  format(lhs_dtype, rhs_dtype, lhs_dtype))\n",
      "328/328 [==============================] - 8s 24ms/step - batch_cost: 0.0244 - reader cost: 1.3448e-0\n",
      "2021-08-13 11:20:57 [INFO]\t[EVAL] #Images: 328 mIoU: 0.6850 Acc: 0.8342 Kappa: 0.6238 \n",
      "2021-08-13 11:20:57 [INFO]\t[EVAL] Class IoU: \n",
      "[0.7831 0.587 ]\n",
      "2021-08-13 11:20:57 [INFO]\t[EVAL] Class Acc: \n",
      "[0.9593 0.6266]\n",
      "2021-08-13 11:20:57 [INFO]\t[EVAL] The model with the best validation mIoU (0.6850) was saved at iter 200.\n",
      "2021-08-13 11:20:59 [INFO]\t[TRAIN] epoch: 3, iter: 220/2000, loss: 1.8682, lr: 0.009009, batch_cost: 0.0934, reader_cost: 0.00008, ips: 42.8331 samples/sec | ETA 00:02:46\n",
      "2021-08-13 11:21:01 [INFO]\t[TRAIN] epoch: 3, iter: 240/2000, loss: 1.7147, lr: 0.008918, batch_cost: 0.0920, reader_cost: 0.00008, ips: 43.5017 samples/sec | ETA 00:02:41\n",
      "2021-08-13 11:21:03 [INFO]\t[TRAIN] epoch: 4, iter: 260/2000, loss: 1.8235, lr: 0.008827, batch_cost: 0.0966, reader_cost: 0.00440, ips: 41.4119 samples/sec | ETA 00:02:48\n",
      "2021-08-13 11:21:05 [INFO]\t[TRAIN] epoch: 4, iter: 280/2000, loss: 1.7395, lr: 0.008735, batch_cost: 0.0945, reader_cost: 0.00008, ips: 42.3387 samples/sec | ETA 00:02:42\n",
      "2021-08-13 11:21:07 [INFO]\t[TRAIN] epoch: 4, iter: 300/2000, loss: 1.6690, lr: 0.008644, batch_cost: 0.0919, reader_cost: 0.00007, ips: 43.5106 samples/sec | ETA 00:02:36\n",
      "2021-08-13 11:21:09 [INFO]\t[TRAIN] epoch: 4, iter: 320/2000, loss: 1.7358, lr: 0.008552, batch_cost: 0.0931, reader_cost: 0.00007, ips: 42.9547 samples/sec | ETA 00:02:36\n",
      "2021-08-13 11:21:11 [INFO]\t[TRAIN] epoch: 5, iter: 340/2000, loss: 1.6257, lr: 0.008461, batch_cost: 0.0983, reader_cost: 0.00423, ips: 40.7072 samples/sec | ETA 00:02:43\n",
      "2021-08-13 11:21:13 [INFO]\t[TRAIN] epoch: 5, iter: 360/2000, loss: 1.6964, lr: 0.008369, batch_cost: 0.0950, reader_cost: 0.00009, ips: 42.0854 samples/sec | ETA 00:02:35\n",
      "2021-08-13 11:21:14 [INFO]\t[TRAIN] epoch: 5, iter: 380/2000, loss: 1.7816, lr: 0.008277, batch_cost: 0.0929, reader_cost: 0.00008, ips: 43.0392 samples/sec | ETA 00:02:30\n",
      "2021-08-13 11:21:16 [INFO]\t[TRAIN] epoch: 5, iter: 400/2000, loss: 1.6230, lr: 0.008185, batch_cost: 0.0924, reader_cost: 0.00008, ips: 43.3096 samples/sec | ETA 00:02:27\n",
      "2021-08-13 11:21:16 [INFO]\tStart evaluating (total_samples: 328, total_iters: 328)...\n",
      "328/328 [==============================] - 9s 26ms/step - batch_cost: 0.0261 - reader cost: 1.2394e-\n",
      "2021-08-13 11:21:25 [INFO]\t[EVAL] #Images: 328 mIoU: 0.7845 Acc: 0.9029 Kappa: 0.7526 \n",
      "2021-08-13 11:21:25 [INFO]\t[EVAL] Class IoU: \n",
      "[0.8757 0.6932]\n",
      "2021-08-13 11:21:25 [INFO]\t[EVAL] Class Acc: \n",
      "[0.9426 0.7983]\n",
      "2021-08-13 11:21:25 [INFO]\t[EVAL] The model with the best validation mIoU (0.7845) was saved at iter 400.\n",
      "2021-08-13 11:21:27 [INFO]\t[TRAIN] epoch: 6, iter: 420/2000, loss: 1.5932, lr: 0.008093, batch_cost: 0.1125, reader_cost: 0.00415, ips: 35.5428 samples/sec | ETA 00:02:57\n",
      "2021-08-13 11:21:29 [INFO]\t[TRAIN] epoch: 6, iter: 440/2000, loss: 1.6004, lr: 0.008001, batch_cost: 0.0940, reader_cost: 0.00008, ips: 42.5372 samples/sec | ETA 00:02:26\n",
      "2021-08-13 11:21:31 [INFO]\t[TRAIN] epoch: 6, iter: 460/2000, loss: 1.5795, lr: 0.007909, batch_cost: 0.0952, reader_cost: 0.00008, ips: 42.0368 samples/sec | ETA 00:02:26\n",
      "2021-08-13 11:21:33 [INFO]\t[TRAIN] epoch: 6, iter: 480/2000, loss: 1.6763, lr: 0.007816, batch_cost: 0.0992, reader_cost: 0.00009, ips: 40.3415 samples/sec | ETA 00:02:30\n",
      "2021-08-13 11:21:35 [INFO]\t[TRAIN] epoch: 7, iter: 500/2000, loss: 1.6411, lr: 0.007724, batch_cost: 0.0999, reader_cost: 0.00472, ips: 40.0225 samples/sec | ETA 00:02:29\n",
      "2021-08-13 11:21:37 [INFO]\t[TRAIN] epoch: 7, iter: 520/2000, loss: 1.5015, lr: 0.007631, batch_cost: 0.0966, reader_cost: 0.00008, ips: 41.3956 samples/sec | ETA 00:02:23\n",
      "2021-08-13 11:21:39 [INFO]\t[TRAIN] epoch: 7, iter: 540/2000, loss: 1.6023, lr: 0.007538, batch_cost: 0.0947, reader_cost: 0.00008, ips: 42.2287 samples/sec | ETA 00:02:18\n",
      "2021-08-13 11:21:41 [INFO]\t[TRAIN] epoch: 7, iter: 560/2000, loss: 1.5863, lr: 0.007445, batch_cost: 0.0944, reader_cost: 0.00008, ips: 42.3831 samples/sec | ETA 00:02:15\n",
      "2021-08-13 11:21:43 [INFO]\t[TRAIN] epoch: 8, iter: 580/2000, loss: 1.4818, lr: 0.007352, batch_cost: 0.0991, reader_cost: 0.00463, ips: 40.3665 samples/sec | ETA 00:02:20\n",
      "2021-08-13 11:21:45 [INFO]\t[TRAIN] epoch: 8, iter: 600/2000, loss: 1.5971, lr: 0.007259, batch_cost: 0.0982, reader_cost: 0.00035, ips: 40.7387 samples/sec | ETA 00:02:17\n",
      "2021-08-13 11:21:45 [INFO]\tStart evaluating (total_samples: 328, total_iters: 328)...\n",
      "328/328 [==============================] - 8s 26ms/step - batch_cost: 0.0257 - reader cost: 1.6204e-\n",
      "2021-08-13 11:21:53 [INFO]\t[EVAL] #Images: 328 mIoU: 0.8062 Acc: 0.9184 Kappa: 0.7800 \n",
      "2021-08-13 11:21:53 [INFO]\t[EVAL] Class IoU: \n",
      "[0.8975 0.7149]\n",
      "2021-08-13 11:21:53 [INFO]\t[EVAL] Class Acc: \n",
      "[0.9267 0.8909]\n",
      "2021-08-13 11:21:54 [INFO]\t[EVAL] The model with the best validation mIoU (0.8062) was saved at iter 600.\n",
      "2021-08-13 11:21:56 [INFO]\t[TRAIN] epoch: 8, iter: 620/2000, loss: 1.4969, lr: 0.007166, batch_cost: 0.0947, reader_cost: 0.00008, ips: 42.2596 samples/sec | ETA 00:02:10\n",
      "2021-08-13 11:21:57 [INFO]\t[TRAIN] epoch: 8, iter: 640/2000, loss: 1.4658, lr: 0.007072, batch_cost: 0.0933, reader_cost: 0.00008, ips: 42.8618 samples/sec | ETA 00:02:06\n",
      "2021-08-13 11:22:00 [INFO]\t[TRAIN] epoch: 9, iter: 660/2000, loss: 1.5897, lr: 0.006978, batch_cost: 0.1014, reader_cost: 0.00498, ips: 39.4465 samples/sec | ETA 00:02:15\n",
      "2021-08-13 11:22:02 [INFO]\t[TRAIN] epoch: 9, iter: 680/2000, loss: 1.4949, lr: 0.006885, batch_cost: 0.1342, reader_cost: 0.00010, ips: 29.7979 samples/sec | ETA 00:02:57\n",
      "2021-08-13 11:22:04 [INFO]\t[TRAIN] epoch: 9, iter: 700/2000, loss: 1.5471, lr: 0.006791, batch_cost: 0.1083, reader_cost: 0.00010, ips: 36.9489 samples/sec | ETA 00:02:20\n",
      "2021-08-13 11:22:06 [INFO]\t[TRAIN] epoch: 9, iter: 720/2000, loss: 1.4078, lr: 0.006697, batch_cost: 0.0947, reader_cost: 0.00008, ips: 42.2407 samples/sec | ETA 00:02:01\n",
      "2021-08-13 11:22:08 [INFO]\t[TRAIN] epoch: 10, iter: 740/2000, loss: 1.4632, lr: 0.006603, batch_cost: 0.0991, reader_cost: 0.00596, ips: 40.3542 samples/sec | ETA 00:02:04\n",
      "2021-08-13 11:22:10 [INFO]\t[TRAIN] epoch: 10, iter: 760/2000, loss: 1.4720, lr: 0.006508, batch_cost: 0.0964, reader_cost: 0.00010, ips: 41.5070 samples/sec | ETA 00:01:59\n",
      "2021-08-13 11:22:12 [INFO]\t[TRAIN] epoch: 10, iter: 780/2000, loss: 1.4234, lr: 0.006414, batch_cost: 0.1054, reader_cost: 0.00010, ips: 37.9575 samples/sec | ETA 00:02:08\n",
      "2021-08-13 11:22:14 [INFO]\t[TRAIN] epoch: 10, iter: 800/2000, loss: 1.4856, lr: 0.006319, batch_cost: 0.0973, reader_cost: 0.00009, ips: 41.1227 samples/sec | ETA 00:01:56\n",
      "2021-08-13 11:22:14 [INFO]\tStart evaluating (total_samples: 328, total_iters: 328)...\n",
      "328/328 [==============================] - 9s 26ms/step - batch_cost: 0.0261 - reader cost: 1.2432e-0\n",
      "2021-08-13 11:22:23 [INFO]\t[EVAL] #Images: 328 mIoU: 0.8219 Acc: 0.9240 Kappa: 0.8002 \n",
      "2021-08-13 11:22:23 [INFO]\t[EVAL] Class IoU: \n",
      "[0.9029 0.7409]\n",
      "2021-08-13 11:22:23 [INFO]\t[EVAL] Class Acc: \n",
      "[0.9417 0.8707]\n",
      "2021-08-13 11:22:23 [INFO]\t[EVAL] The model with the best validation mIoU (0.8219) was saved at iter 800.\n",
      "2021-08-13 11:22:25 [INFO]\t[TRAIN] epoch: 10, iter: 820/2000, loss: 1.4974, lr: 0.006224, batch_cost: 0.1018, reader_cost: 0.00008, ips: 39.3041 samples/sec | ETA 00:02:00\n",
      "2021-08-13 11:22:27 [INFO]\t[TRAIN] epoch: 11, iter: 840/2000, loss: 1.4604, lr: 0.006129, batch_cost: 0.1085, reader_cost: 0.00407, ips: 36.8611 samples/sec | ETA 00:02:05\n",
      "2021-08-13 11:22:29 [INFO]\t[TRAIN] epoch: 11, iter: 860/2000, loss: 1.4072, lr: 0.006034, batch_cost: 0.1054, reader_cost: 0.00037, ips: 37.9416 samples/sec | ETA 00:02:00\n",
      "2021-08-13 11:22:32 [INFO]\t[TRAIN] epoch: 11, iter: 880/2000, loss: 1.3632, lr: 0.005939, batch_cost: 0.1026, reader_cost: 0.00008, ips: 38.9688 samples/sec | ETA 00:01:54\n",
      "2021-08-13 11:22:34 [INFO]\t[TRAIN] epoch: 11, iter: 900/2000, loss: 1.4677, lr: 0.005844, batch_cost: 0.1021, reader_cost: 0.00008, ips: 39.1581 samples/sec | ETA 00:01:52\n",
      "2021-08-13 11:22:36 [INFO]\t[TRAIN] epoch: 12, iter: 920/2000, loss: 1.4187, lr: 0.005748, batch_cost: 0.1075, reader_cost: 0.00435, ips: 37.2208 samples/sec | ETA 00:01:56\n",
      "2021-08-13 11:22:38 [INFO]\t[TRAIN] epoch: 12, iter: 940/2000, loss: 1.4263, lr: 0.005652, batch_cost: 0.0938, reader_cost: 0.00008, ips: 42.6549 samples/sec | ETA 00:01:39\n",
      "2021-08-13 11:22:39 [INFO]\t[TRAIN] epoch: 12, iter: 960/2000, loss: 1.3688, lr: 0.005556, batch_cost: 0.0936, reader_cost: 0.00008, ips: 42.7427 samples/sec | ETA 00:01:37\n",
      "2021-08-13 11:22:41 [INFO]\t[TRAIN] epoch: 12, iter: 980/2000, loss: 1.4138, lr: 0.005460, batch_cost: 0.0937, reader_cost: 0.00008, ips: 42.6852 samples/sec | ETA 00:01:35\n",
      "2021-08-13 11:22:43 [INFO]\t[TRAIN] epoch: 13, iter: 1000/2000, loss: 1.3485, lr: 0.005364, batch_cost: 0.0984, reader_cost: 0.00527, ips: 40.6328 samples/sec | ETA 00:01:38\n",
      "2021-08-13 11:22:43 [INFO]\tStart evaluating (total_samples: 328, total_iters: 328)...\n",
      "328/328 [==============================] - 8s 25ms/step - batch_cost: 0.0250 - reader cost: 1.1969e-0\n",
      "2021-08-13 11:22:52 [INFO]\t[EVAL] #Images: 328 mIoU: 0.8424 Acc: 0.9331 Kappa: 0.8257 \n",
      "2021-08-13 11:22:52 [INFO]\t[EVAL] Class IoU: \n",
      "[0.9137 0.7712]\n",
      "2021-08-13 11:22:52 [INFO]\t[EVAL] Class Acc: \n",
      "[0.9522 0.878 ]\n",
      "2021-08-13 11:22:52 [INFO]\t[EVAL] The model with the best validation mIoU (0.8424) was saved at iter 1000.\n",
      "2021-08-13 11:22:54 [INFO]\t[TRAIN] epoch: 13, iter: 1020/2000, loss: 1.5470, lr: 0.005267, batch_cost: 0.0934, reader_cost: 0.00008, ips: 42.8159 samples/sec | ETA 00:01:31\n",
      "2021-08-13 11:22:56 [INFO]\t[TRAIN] epoch: 13, iter: 1040/2000, loss: 1.3080, lr: 0.005170, batch_cost: 0.0941, reader_cost: 0.00008, ips: 42.5057 samples/sec | ETA 00:01:30\n",
      "2021-08-13 11:22:58 [INFO]\t[TRAIN] epoch: 13, iter: 1060/2000, loss: 1.4967, lr: 0.005073, batch_cost: 0.0926, reader_cost: 0.00008, ips: 43.2049 samples/sec | ETA 00:01:27\n",
      "2021-08-13 11:23:00 [INFO]\t[TRAIN] epoch: 14, iter: 1080/2000, loss: 1.3450, lr: 0.004976, batch_cost: 0.1384, reader_cost: 0.04243, ips: 28.8947 samples/sec | ETA 00:02:07\n",
      "2021-08-13 11:23:04 [INFO]\t[TRAIN] epoch: 14, iter: 1100/2000, loss: 1.3267, lr: 0.004879, batch_cost: 0.1877, reader_cost: 0.09727, ips: 21.3066 samples/sec | ETA 00:02:48\n",
      "2021-08-13 11:23:07 [INFO]\t[TRAIN] epoch: 14, iter: 1120/2000, loss: 1.4887, lr: 0.004781, batch_cost: 0.1286, reader_cost: 0.02618, ips: 31.1073 samples/sec | ETA 00:01:53\n",
      "2021-08-13 11:23:09 [INFO]\t[TRAIN] epoch: 14, iter: 1140/2000, loss: 1.3388, lr: 0.004684, batch_cost: 0.0936, reader_cost: 0.00033, ips: 42.7319 samples/sec | ETA 00:01:20\n",
      "2021-08-13 11:23:11 [INFO]\t[TRAIN] epoch: 15, iter: 1160/2000, loss: 1.2970, lr: 0.004586, batch_cost: 0.0993, reader_cost: 0.00484, ips: 40.2865 samples/sec | ETA 00:01:23\n",
      "2021-08-13 11:23:12 [INFO]\t[TRAIN] epoch: 15, iter: 1180/2000, loss: 1.4517, lr: 0.004487, batch_cost: 0.0936, reader_cost: 0.00007, ips: 42.7402 samples/sec | ETA 00:01:16\n",
      "2021-08-13 11:23:14 [INFO]\t[TRAIN] epoch: 15, iter: 1200/2000, loss: 1.4721, lr: 0.004389, batch_cost: 0.0928, reader_cost: 0.00009, ips: 43.0976 samples/sec | ETA 00:01:14\n",
      "2021-08-13 11:23:14 [INFO]\tStart evaluating (total_samples: 328, total_iters: 328)...\n",
      "328/328 [==============================] - 8s 24ms/step - batch_cost: 0.0240 - reader cost: 1.1152e-\n",
      "2021-08-13 11:23:22 [INFO]\t[EVAL] #Images: 328 mIoU: 0.8443 Acc: 0.9334 Kappa: 0.8281 \n",
      "2021-08-13 11:23:22 [INFO]\t[EVAL] Class IoU: \n",
      "[0.9135 0.7751]\n",
      "2021-08-13 11:23:22 [INFO]\t[EVAL] Class Acc: \n",
      "[0.9573 0.8669]\n",
      "2021-08-13 11:23:22 [INFO]\t[EVAL] The model with the best validation mIoU (0.8443) was saved at iter 1200.\n",
      "2021-08-13 11:23:24 [INFO]\t[TRAIN] epoch: 15, iter: 1220/2000, loss: 1.2649, lr: 0.004290, batch_cost: 0.0924, reader_cost: 0.00009, ips: 43.2982 samples/sec | ETA 00:01:12\n",
      "2021-08-13 11:23:26 [INFO]\t[TRAIN] epoch: 16, iter: 1240/2000, loss: 1.4311, lr: 0.004191, batch_cost: 0.0958, reader_cost: 0.00458, ips: 41.7733 samples/sec | ETA 00:01:12\n",
      "2021-08-13 11:23:28 [INFO]\t[TRAIN] epoch: 16, iter: 1260/2000, loss: 1.3007, lr: 0.004092, batch_cost: 0.0930, reader_cost: 0.00007, ips: 43.0009 samples/sec | ETA 00:01:08\n",
      "2021-08-13 11:23:30 [INFO]\t[TRAIN] epoch: 16, iter: 1280/2000, loss: 1.2832, lr: 0.003992, batch_cost: 0.0921, reader_cost: 0.00007, ips: 43.4507 samples/sec | ETA 00:01:06\n",
      "2021-08-13 11:23:32 [INFO]\t[TRAIN] epoch: 16, iter: 1300/2000, loss: 1.3449, lr: 0.003892, batch_cost: 0.0931, reader_cost: 0.00006, ips: 42.9708 samples/sec | ETA 00:01:05\n",
      "2021-08-13 11:23:34 [INFO]\t[TRAIN] epoch: 17, iter: 1320/2000, loss: 1.3854, lr: 0.003792, batch_cost: 0.0997, reader_cost: 0.00579, ips: 40.1187 samples/sec | ETA 00:01:07\n",
      "2021-08-13 11:23:36 [INFO]\t[TRAIN] epoch: 17, iter: 1340/2000, loss: 1.3486, lr: 0.003692, batch_cost: 0.0972, reader_cost: 0.00010, ips: 41.1708 samples/sec | ETA 00:01:04\n",
      "2021-08-13 11:23:38 [INFO]\t[TRAIN] epoch: 17, iter: 1360/2000, loss: 1.3087, lr: 0.003591, batch_cost: 0.1044, reader_cost: 0.00641, ips: 38.3122 samples/sec | ETA 00:01:06\n",
      "2021-08-13 11:23:40 [INFO]\t[TRAIN] epoch: 17, iter: 1380/2000, loss: 1.2832, lr: 0.003490, batch_cost: 0.0947, reader_cost: 0.00008, ips: 42.2577 samples/sec | ETA 00:00:58\n",
      "2021-08-13 11:23:42 [INFO]\t[TRAIN] epoch: 18, iter: 1400/2000, loss: 1.3934, lr: 0.003389, batch_cost: 0.0959, reader_cost: 0.00417, ips: 41.7057 samples/sec | ETA 00:00:57\n",
      "2021-08-13 11:23:42 [INFO]\tStart evaluating (total_samples: 328, total_iters: 328)...\n",
      "328/328 [==============================] - 8s 24ms/step - batch_cost: 0.0242 - reader cost: 1.1292e-\n",
      "2021-08-13 11:23:50 [INFO]\t[EVAL] #Images: 328 mIoU: 0.8529 Acc: 0.9384 Kappa: 0.8384 \n",
      "2021-08-13 11:23:50 [INFO]\t[EVAL] Class IoU: \n",
      "[0.9204 0.7854]\n",
      "2021-08-13 11:23:50 [INFO]\t[EVAL] Class Acc: \n",
      "[0.9528 0.8956]\n",
      "2021-08-13 11:23:50 [INFO]\t[EVAL] The model with the best validation mIoU (0.8529) was saved at iter 1400.\n",
      "2021-08-13 11:23:52 [INFO]\t[TRAIN] epoch: 18, iter: 1420/2000, loss: 1.2789, lr: 0.003287, batch_cost: 0.0928, reader_cost: 0.00007, ips: 43.1100 samples/sec | ETA 00:00:53\n",
      "2021-08-13 11:23:54 [INFO]\t[TRAIN] epoch: 18, iter: 1440/2000, loss: 1.4070, lr: 0.003185, batch_cost: 0.0931, reader_cost: 0.00008, ips: 42.9513 samples/sec | ETA 00:00:52\n",
      "2021-08-13 11:23:56 [INFO]\t[TRAIN] epoch: 18, iter: 1460/2000, loss: 1.3241, lr: 0.003083, batch_cost: 0.0934, reader_cost: 0.00008, ips: 42.8301 samples/sec | ETA 00:00:50\n",
      "2021-08-13 11:23:57 [INFO]\t[TRAIN] epoch: 19, iter: 1480/2000, loss: 1.2848, lr: 0.002980, batch_cost: 0.0965, reader_cost: 0.00414, ips: 41.4460 samples/sec | ETA 00:00:50\n",
      "2021-08-13 11:24:00 [INFO]\t[TRAIN] epoch: 19, iter: 1500/2000, loss: 1.2341, lr: 0.002877, batch_cost: 0.1272, reader_cost: 0.02582, ips: 31.4356 samples/sec | ETA 00:01:03\n",
      "2021-08-13 11:24:02 [INFO]\t[TRAIN] epoch: 19, iter: 1520/2000, loss: 1.3550, lr: 0.002773, batch_cost: 0.0914, reader_cost: 0.00006, ips: 43.7563 samples/sec | ETA 00:00:43\n",
      "2021-08-13 11:24:04 [INFO]\t[TRAIN] epoch: 19, iter: 1540/2000, loss: 1.3512, lr: 0.002669, batch_cost: 0.0916, reader_cost: 0.00010, ips: 43.6626 samples/sec | ETA 00:00:42\n",
      "2021-08-13 11:24:06 [INFO]\t[TRAIN] epoch: 20, iter: 1560/2000, loss: 1.3778, lr: 0.002565, batch_cost: 0.0984, reader_cost: 0.00468, ips: 40.6374 samples/sec | ETA 00:00:43\n",
      "2021-08-13 11:24:08 [INFO]\t[TRAIN] epoch: 20, iter: 1580/2000, loss: 1.3412, lr: 0.002460, batch_cost: 0.0948, reader_cost: 0.00008, ips: 42.2112 samples/sec | ETA 00:00:39\n",
      "2021-08-13 11:24:09 [INFO]\t[TRAIN] epoch: 20, iter: 1600/2000, loss: 1.2827, lr: 0.002355, batch_cost: 0.0961, reader_cost: 0.00009, ips: 41.6054 samples/sec | ETA 00:00:38\n",
      "2021-08-13 11:24:10 [INFO]\tStart evaluating (total_samples: 328, total_iters: 328)...\n",
      "328/328 [==============================] - 8s 25ms/step - batch_cost: 0.0251 - reader cost: 1.2728e-0\n",
      "2021-08-13 11:24:18 [INFO]\t[EVAL] #Images: 328 mIoU: 0.8578 Acc: 0.9402 Kappa: 0.8443 \n",
      "2021-08-13 11:24:18 [INFO]\t[EVAL] Class IoU: \n",
      "[0.9223 0.7933]\n",
      "2021-08-13 11:24:18 [INFO]\t[EVAL] Class Acc: \n",
      "[0.9578 0.8895]\n",
      "2021-08-13 11:24:18 [INFO]\t[EVAL] The model with the best validation mIoU (0.8578) was saved at iter 1600.\n",
      "2021-08-13 11:24:20 [INFO]\t[TRAIN] epoch: 20, iter: 1620/2000, loss: 1.2949, lr: 0.002249, batch_cost: 0.0938, reader_cost: 0.00008, ips: 42.6593 samples/sec | ETA 00:00:35\n",
      "2021-08-13 11:24:22 [INFO]\t[TRAIN] epoch: 20, iter: 1640/2000, loss: 1.2156, lr: 0.002142, batch_cost: 0.0931, reader_cost: 0.00008, ips: 42.9781 samples/sec | ETA 00:00:33\n",
      "2021-08-13 11:24:24 [INFO]\t[TRAIN] epoch: 21, iter: 1660/2000, loss: 1.3445, lr: 0.002035, batch_cost: 0.0988, reader_cost: 0.00423, ips: 40.4692 samples/sec | ETA 00:00:33\n",
      "2021-08-13 11:24:26 [INFO]\t[TRAIN] epoch: 21, iter: 1680/2000, loss: 1.3299, lr: 0.001927, batch_cost: 0.0948, reader_cost: 0.00011, ips: 42.2014 samples/sec | ETA 00:00:30\n",
      "2021-08-13 11:24:28 [INFO]\t[TRAIN] epoch: 21, iter: 1700/2000, loss: 1.2122, lr: 0.001819, batch_cost: 0.0934, reader_cost: 0.00007, ips: 42.8379 samples/sec | ETA 00:00:28\n",
      "2021-08-13 11:24:29 [INFO]\t[TRAIN] epoch: 21, iter: 1720/2000, loss: 1.2800, lr: 0.001710, batch_cost: 0.0934, reader_cost: 0.00007, ips: 42.8311 samples/sec | ETA 00:00:26\n",
      "2021-08-13 11:24:31 [INFO]\t[TRAIN] epoch: 22, iter: 1740/2000, loss: 1.3183, lr: 0.001600, batch_cost: 0.0970, reader_cost: 0.00401, ips: 41.2170 samples/sec | ETA 00:00:25\n",
      "2021-08-13 11:24:33 [INFO]\t[TRAIN] epoch: 22, iter: 1760/2000, loss: 1.2737, lr: 0.001489, batch_cost: 0.0942, reader_cost: 0.00009, ips: 42.4451 samples/sec | ETA 00:00:22\n",
      "2021-08-13 11:24:35 [INFO]\t[TRAIN] epoch: 22, iter: 1780/2000, loss: 1.2243, lr: 0.001377, batch_cost: 0.0938, reader_cost: 0.00007, ips: 42.6431 samples/sec | ETA 00:00:20\n",
      "2021-08-13 11:24:37 [INFO]\t[TRAIN] epoch: 22, iter: 1800/2000, loss: 1.2880, lr: 0.001265, batch_cost: 0.0929, reader_cost: 0.00007, ips: 43.0801 samples/sec | ETA 00:00:18\n",
      "2021-08-13 11:24:37 [INFO]\tStart evaluating (total_samples: 328, total_iters: 328)...\n",
      "328/328 [==============================] - 8s 26ms/step - batch_cost: 0.0255 - reader cost: 1.3252e-\n",
      "2021-08-13 11:24:45 [INFO]\t[EVAL] #Images: 328 mIoU: 0.8591 Acc: 0.9413 Kappa: 0.8458 \n",
      "2021-08-13 11:24:45 [INFO]\t[EVAL] Class IoU: \n",
      "[0.924  0.7941]\n",
      "2021-08-13 11:24:45 [INFO]\t[EVAL] Class Acc: \n",
      "[0.9541 0.903 ]\n",
      "2021-08-13 11:24:46 [INFO]\t[EVAL] The model with the best validation mIoU (0.8591) was saved at iter 1800.\n",
      "2021-08-13 11:24:48 [INFO]\t[TRAIN] epoch: 23, iter: 1820/2000, loss: 1.2403, lr: 0.001151, batch_cost: 0.0992, reader_cost: 0.00427, ips: 40.3054 samples/sec | ETA 00:00:17\n",
      "2021-08-13 11:24:50 [INFO]\t[TRAIN] epoch: 23, iter: 1840/2000, loss: 1.2619, lr: 0.001036, batch_cost: 0.0933, reader_cost: 0.00008, ips: 42.8590 samples/sec | ETA 00:00:14\n",
      "2021-08-13 11:24:52 [INFO]\t[TRAIN] epoch: 23, iter: 1860/2000, loss: 1.3501, lr: 0.000919, batch_cost: 0.1018, reader_cost: 0.00029, ips: 39.2884 samples/sec | ETA 00:00:14\n",
      "2021-08-13 11:24:54 [INFO]\t[TRAIN] epoch: 23, iter: 1880/2000, loss: 1.2686, lr: 0.000801, batch_cost: 0.0947, reader_cost: 0.00008, ips: 42.2479 samples/sec | ETA 00:00:11\n",
      "2021-08-13 11:24:56 [INFO]\t[TRAIN] epoch: 24, iter: 1900/2000, loss: 1.2530, lr: 0.000681, batch_cost: 0.0983, reader_cost: 0.00398, ips: 40.6953 samples/sec | ETA 00:00:09\n",
      "2021-08-13 11:24:57 [INFO]\t[TRAIN] epoch: 24, iter: 1920/2000, loss: 1.3117, lr: 0.000558, batch_cost: 0.0956, reader_cost: 0.00008, ips: 41.8302 samples/sec | ETA 00:00:07\n",
      "2021-08-13 11:25:01 [INFO]\t[TRAIN] epoch: 24, iter: 1940/2000, loss: 1.2682, lr: 0.000432, batch_cost: 0.1782, reader_cost: 0.00072, ips: 22.4436 samples/sec | ETA 00:00:10\n",
      "2021-08-13 11:25:05 [INFO]\t[TRAIN] epoch: 24, iter: 1960/2000, loss: 1.2356, lr: 0.000302, batch_cost: 0.1815, reader_cost: 0.00007, ips: 22.0340 samples/sec | ETA 00:00:07\n",
      "2021-08-13 11:25:08 [INFO]\t[TRAIN] epoch: 25, iter: 1980/2000, loss: 1.2603, lr: 0.000166, batch_cost: 0.1476, reader_cost: 0.00536, ips: 27.0983 samples/sec | ETA 00:00:02\n",
      "2021-08-13 11:25:10 [INFO]\t[TRAIN] epoch: 25, iter: 2000/2000, loss: 1.2765, lr: 0.000011, batch_cost: 0.1301, reader_cost: 0.00009, ips: 30.7358 samples/sec | ETA 00:00:00\n",
      "2021-08-13 11:25:10 [INFO]\tStart evaluating (total_samples: 328, total_iters: 328)...\n",
      "328/328 [==============================] - 10s 30ms/step - batch_cost: 0.0295 - reader cost: 1.2470e-0\n",
      "2021-08-13 11:25:20 [INFO]\t[EVAL] #Images: 328 mIoU: 0.8621 Acc: 0.9425 Kappa: 0.8494 \n",
      "2021-08-13 11:25:20 [INFO]\t[EVAL] Class IoU: \n",
      "[0.9254 0.7988]\n",
      "2021-08-13 11:25:20 [INFO]\t[EVAL] Class Acc: \n",
      "[0.9564 0.9015]\n",
      "2021-08-13 11:25:20 [INFO]\t[EVAL] The model with the best validation mIoU (0.8621) was saved at iter 2000.\n",
      "<class 'paddle.nn.layer.conv.Conv2D'>'s flops has been counted\n",
      "Customize Function has been applied to <class 'paddle.nn.layer.norm.SyncBatchNorm'>\n",
      "Cannot find suitable count function for <class 'paddle.nn.layer.pooling.MaxPool2D'>. Treat it as zero FLOPs.\n",
      "<class 'paddle.nn.layer.pooling.AdaptiveAvgPool2D'>'s flops has been counted\n",
      "<class 'paddle.nn.layer.pooling.AvgPool2D'>'s flops has been counted\n",
      "Cannot find suitable count function for <class 'paddle.nn.layer.activation.Sigmoid'>. Treat it as zero FLOPs.\n",
      "<class 'paddle.nn.layer.common.Dropout'>'s flops has been counted\n",
      "/opt/conda/envs/python35-paddle120-env/lib/python3.7/site-packages/paddle/tensor/creation.py:143: DeprecationWarning: `np.object` is a deprecated alias for the builtin `object`. To silence this warning, use `object` by itself. Doing this will not modify any behavior and is safe. \n",
      "Deprecated in NumPy 1.20; for more details and guidance: https://numpy.org/devdocs/release/1.20.0-notes.html#deprecations\n",
      "  if data.dtype == np.object:\n",
      "/opt/conda/envs/python35-paddle120-env/lib/python3.7/site-packages/paddle/fluid/dygraph/math_op_patch.py:238: UserWarning: The dtype of left and right variables are not the same, left dtype is VarType.FP32, but right dtype is VarType.INT32, the right dtype will convert to VarType.FP32\n",
      "  format(lhs_dtype, rhs_dtype, lhs_dtype))\n",
      "Total Flops: 8061050880     Total Params: 2328346\n"
     ]
    }
   ],
   "source": [
    "!python PaddleSeg/train.py\\\r\n",
    "--config PaddleSeg/configs/quick_start/bisenet_optic_disc_512x512_1k.yml\\\r\n",
    "--batch_size 4\\\r\n",
    "--iters 2000\\\r\n",
    "--learning_rate 0.01\\\r\n",
    "--save_interval 200\\\r\n",
    "--save_dir PaddleSeg/output\\\r\n",
    "--seed 2021\\\r\n",
    "--log_iters 20\\\r\n",
    "--do_eval\\\r\n",
    "--use_vdl\r\n",
    "\r\n",
    "# --batch_size 4\\  # 批大小\r\n",
    "# --iters 2000\\    # 迭代次数 -- 根据数据大小，批大小估计迭代次数\r\n",
    "# --learning_rate 0.01\\ # 学习率\r\n",
    "# --save_interval 200\\ # 保存周期 -- 迭代次数计算周期\r\n",
    "# --save_dir PaddleSeg/output\\ # 输出路径\r\n",
    "# --seed 2021\\ # 训练中使用到的随机数种子\r\n",
    "# --log_iters 20\\ # 日志频率 -- 迭代次数计算周期\r\n",
    "# --do_eval\\ # 边训练边验证\r\n",
    "# --use_vdl # 使用vdl可视化记录\r\n",
    "# 用于断训==即中断后继续上一次状态进行训练\r\n",
    "# --resume_model model_dir"
   ]
  },
  {
   "cell_type": "code",
   "execution_count": 9,
   "metadata": {
    "collapsed": false
   },
   "outputs": [
    {
     "name": "stdout",
     "output_type": "stream",
     "text": [
      "/opt/conda/envs/python35-paddle120-env/lib/python3.7/site-packages/paddle/fluid/layers/utils.py:26: DeprecationWarning: `np.int` is a deprecated alias for the builtin `int`. To silence this warning, use `int` by itself. Doing this will not modify any behavior and is safe. When replacing `np.int`, you may wish to use e.g. `np.int64` or `np.int32` to specify the precision. If you wish to review your current use, check the release note link for additional information.\n",
      "Deprecated in NumPy 1.20; for more details and guidance: https://numpy.org/devdocs/release/1.20.0-notes.html#deprecations\n",
      "  def convert_to_list(value, n, name, dtype=np.int):\n",
      "2021-08-13 11:33:25 [INFO]\t\n",
      "---------------Config Information---------------\n",
      "batch_size: 4\n",
      "iters: 1000\n",
      "loss:\n",
      "  coef:\n",
      "  - 1\n",
      "  - 1\n",
      "  - 1\n",
      "  - 1\n",
      "  - 1\n",
      "  types:\n",
      "  - type: CrossEntropyLoss\n",
      "lr_scheduler:\n",
      "  end_lr: 0\n",
      "  learning_rate: 0.01\n",
      "  power: 0.9\n",
      "  type: PolynomialDecay\n",
      "model:\n",
      "  pretrained: null\n",
      "  type: BiSeNetV2\n",
      "optimizer:\n",
      "  momentum: 0.9\n",
      "  type: sgd\n",
      "  weight_decay: 4.0e-05\n",
      "train_dataset:\n",
      "  dataset_root: segDataset/horse\n",
      "  mode: train\n",
      "  num_classes: 2\n",
      "  train_path: segDataset/horse/train_list.txt\n",
      "  transforms:\n",
      "  - target_size:\n",
      "    - 512\n",
      "    - 512\n",
      "    type: Resize\n",
      "  - type: RandomHorizontalFlip\n",
      "  - type: Normalize\n",
      "  type: Dataset\n",
      "val_dataset:\n",
      "  dataset_root: segDataset/horse\n",
      "  mode: val\n",
      "  num_classes: 2\n",
      "  transforms:\n",
      "  - target_size:\n",
      "    - 512\n",
      "    - 512\n",
      "    type: Resize\n",
      "  - type: Normalize\n",
      "  type: Dataset\n",
      "  val_path: segDataset/horse/train_list.txt\n",
      "------------------------------------------------\n",
      "W0813 11:33:25.213234  2443 device_context.cc:362] Please NOTE: device: 0, GPU Compute Capability: 7.0, Driver API Version: 10.1, Runtime API Version: 10.1\n",
      "W0813 11:33:25.213289  2443 device_context.cc:372] device: 0, cuDNN Version: 7.6.\n",
      "2021-08-13 11:33:30 [INFO]\tLoading pretrained model from PaddleSeg/output/best_model/model.pdparams\n",
      "2021-08-13 11:33:30 [INFO]\tThere are 356/356 variables loaded into BiSeNetV2.\n",
      "2021-08-13 11:33:30 [INFO]\tLoaded trained params of model successfully\n",
      "2021-08-13 11:33:30 [INFO]\tStart evaluating (total_samples: 328, total_iters: 328)...\n",
      "/opt/conda/envs/python35-paddle120-env/lib/python3.7/site-packages/paddle/fluid/dataloader/dataloader_iter.py:89: DeprecationWarning: `np.bool` is a deprecated alias for the builtin `bool`. To silence this warning, use `bool` by itself. Doing this will not modify any behavior and is safe. If you specifically wanted the numpy scalar type, use `np.bool_` here.\n",
      "Deprecated in NumPy 1.20; for more details and guidance: https://numpy.org/devdocs/release/1.20.0-notes.html#deprecations\n",
      "  if isinstance(slot[0], (np.ndarray, np.bool, numbers.Number)):\n",
      "/opt/conda/envs/python35-paddle120-env/lib/python3.7/site-packages/paddle/fluid/dygraph/math_op_patch.py:238: UserWarning: The dtype of left and right variables are not the same, left dtype is VarType.INT32, but right dtype is VarType.BOOL, the right dtype will convert to VarType.INT32\n",
      "  format(lhs_dtype, rhs_dtype, lhs_dtype))\n",
      "/opt/conda/envs/python35-paddle120-env/lib/python3.7/site-packages/paddle/fluid/dygraph/math_op_patch.py:238: UserWarning: The dtype of left and right variables are not the same, left dtype is VarType.INT64, but right dtype is VarType.BOOL, the right dtype will convert to VarType.INT64\n",
      "  format(lhs_dtype, rhs_dtype, lhs_dtype))\n",
      "328/328 [==============================] - 8s 24ms/step - batch_cost: 0.0237 - reader cost: 5.7794e-\n",
      "2021-08-13 11:33:38 [INFO]\t[EVAL] #Images: 328 mIoU: 0.8621 Acc: 0.9425 Kappa: 0.8494 \n",
      "2021-08-13 11:33:38 [INFO]\t[EVAL] Class IoU: \n",
      "[0.9254 0.7988]\n",
      "2021-08-13 11:33:38 [INFO]\t[EVAL] Class Acc: \n",
      "[0.9564 0.9015]\n"
     ]
    }
   ],
   "source": [
    "# 单独进行评估 -- 上边do_eval就是这个工作\r\n",
    "!python PaddleSeg/val.py\\\r\n",
    "--config PaddleSeg/configs/quick_start/bisenet_optic_disc_512x512_1k.yml\\\r\n",
    "--model_path PaddleSeg/output/best_model/model.pdparams\r\n",
    "# model_path： 模型参数路径"
   ]
  },
  {
   "cell_type": "markdown",
   "metadata": {
    "collapsed": false
   },
   "source": [
    "- 5.开始预测"
   ]
  },
  {
   "cell_type": "code",
   "execution_count": 8,
   "metadata": {
    "collapsed": false
   },
   "outputs": [
    {
     "name": "stdout",
     "output_type": "stream",
     "text": [
      "/opt/conda/envs/python35-paddle120-env/lib/python3.7/site-packages/paddle/fluid/layers/utils.py:26: DeprecationWarning: `np.int` is a deprecated alias for the builtin `int`. To silence this warning, use `int` by itself. Doing this will not modify any behavior and is safe. When replacing `np.int`, you may wish to use e.g. `np.int64` or `np.int32` to specify the precision. If you wish to review your current use, check the release note link for additional information.\n",
      "Deprecated in NumPy 1.20; for more details and guidance: https://numpy.org/devdocs/release/1.20.0-notes.html#deprecations\n",
      "  def convert_to_list(value, n, name, dtype=np.int):\n",
      "2021-08-13 11:32:48 [INFO]\t\n",
      "---------------Config Information---------------\n",
      "batch_size: 4\n",
      "iters: 1000\n",
      "loss:\n",
      "  coef:\n",
      "  - 1\n",
      "  - 1\n",
      "  - 1\n",
      "  - 1\n",
      "  - 1\n",
      "  types:\n",
      "  - type: CrossEntropyLoss\n",
      "lr_scheduler:\n",
      "  end_lr: 0\n",
      "  learning_rate: 0.01\n",
      "  power: 0.9\n",
      "  type: PolynomialDecay\n",
      "model:\n",
      "  pretrained: null\n",
      "  type: BiSeNetV2\n",
      "optimizer:\n",
      "  momentum: 0.9\n",
      "  type: sgd\n",
      "  weight_decay: 4.0e-05\n",
      "train_dataset:\n",
      "  dataset_root: segDataset/horse\n",
      "  mode: train\n",
      "  num_classes: 2\n",
      "  train_path: segDataset/horse/train_list.txt\n",
      "  transforms:\n",
      "  - target_size:\n",
      "    - 512\n",
      "    - 512\n",
      "    type: Resize\n",
      "  - type: RandomHorizontalFlip\n",
      "  - type: Normalize\n",
      "  type: Dataset\n",
      "val_dataset:\n",
      "  dataset_root: segDataset/horse\n",
      "  mode: val\n",
      "  num_classes: 2\n",
      "  transforms:\n",
      "  - target_size:\n",
      "    - 512\n",
      "    - 512\n",
      "    type: Resize\n",
      "  - type: Normalize\n",
      "  type: Dataset\n",
      "  val_path: segDataset/horse/train_list.txt\n",
      "------------------------------------------------\n",
      "W0813 11:32:48.325642  2259 device_context.cc:362] Please NOTE: device: 0, GPU Compute Capability: 7.0, Driver API Version: 10.1, Runtime API Version: 10.1\n",
      "W0813 11:32:48.325690  2259 device_context.cc:372] device: 0, cuDNN Version: 7.6.\n",
      "2021-08-13 11:32:53 [INFO]\tNumber of predict images = 328\n",
      "2021-08-13 11:32:53 [INFO]\tLoading pretrained model from PaddleSeg/output/best_model/model.pdparams\n",
      "2021-08-13 11:32:53 [INFO]\tThere are 356/356 variables loaded into BiSeNetV2.\n",
      "2021-08-13 11:32:53 [INFO]\tStart to predict...\n",
      "328/328 [==============================] - 16s 49ms/ste\n"
     ]
    }
   ],
   "source": [
    "# 进行预测\r\n",
    "!python PaddleSeg/predict.py\\\r\n",
    "--config PaddleSeg/configs/quick_start/bisenet_optic_disc_512x512_1k.yml\\\r\n",
    "--model_path PaddleSeg/output/best_model/model.pdparams\\\r\n",
    "--image_path segDataset/horse/Images\\\r\n",
    "--save_dir PaddleSeg/output/horse\r\n",
    "# image_path: 预测图片路径/文件夹 -- 这里直接对训练数据进行预测，得到预测结果\r\n",
    "# save_dir： 保存预测结果的路径 -- 保存的预测结果为图片"
   ]
  },
  {
   "cell_type": "markdown",
   "metadata": {
    "collapsed": false
   },
   "source": [
    "# 五、可视化预测结果\n",
    "\n",
    "通过PaddleSeg预测输出的结果为图片，对应位于:PaddleSeg/output/horse\n",
    "\n",
    "其中包含两种结果：\n",
    "\n",
    "- 一种为掩膜图像，即叠加预测结果与原始结果的图像 -- 位于: **PaddleSeg/output/horse/added_prediction**\n",
    "- 另一种为预测结果的伪彩色图像，即预测的结果图像 -- 位于: **PaddleSeg/output/horse/pseudo_color_prediction**"
   ]
  },
  {
   "cell_type": "code",
   "execution_count": null,
   "metadata": {
    "collapsed": false
   },
   "outputs": [],
   "source": [
    "# 查看预测结果文件夹分布\r\n",
    "!tree PaddleSeg/output/horse -L 1"
   ]
  },
  {
   "cell_type": "markdown",
   "metadata": {
    "collapsed": false
   },
   "source": [
    "分别展示两个文件夹中的预测结果(下载每个预测结果文件夹中的一两张图片到本地，然后上传notebook)\n",
    "\n",
    "\n",
    "\n",
    "上传说明:\n",
    "\n",
    "![](https://ai-studio-static-online.cdn.bcebos.com/29cb48e1263a4ea49557a8564f289be1690e1b23dab7412388420f9c244f366c)\n",
    "\n",
    "> 以下为展示结果\n",
    "\n",
    "<font color='red' size=5> ---数据集 horse 的预测结果展示（horse203.jpg和horse203.png）--- </font>\n",
    "\n",
    "<font color='black' size=5> 掩膜图像： </font>\n",
    "\n",
    "![](https://ai-studio-static-online.cdn.bcebos.com/9e3ab2ecdd8e4b55b3271e7cdee618d316a684e2bb8843aca85e3a8327382363)\n",
    "\n",
    "<font color='black' size=5> 伪彩色图像： </font>\n",
    "\n",
    "![](https://ai-studio-static-online.cdn.bcebos.com/212898bb8d8443778e04176c8a6fce95cccaffac71ca4f938de4b1eddae1982c)\n"
   ]
  },
  {
   "cell_type": "markdown",
   "metadata": {
    "collapsed": false
   },
   "source": [
    "# 六、提交作业流程\n",
    "\n",
    "1. 生成项目版本\n",
    "\n",
    "![](https://ai-studio-static-online.cdn.bcebos.com/1c19ac6cfb314353b5377421c74bc5d777dcb5724fad47c1a096df758198f625)\n",
    "\n",
    "2. (有能力的同学可以多捣鼓一下)根据需要可将notebook转为markdown，自行提交到github上\n",
    "\n",
    "![](https://ai-studio-static-online.cdn.bcebos.com/0363ab3eb0da4242844cc8b918d38588bb17af73c2e14ecd92831b89db8e1c46)\n",
    "\n",
    "3. (一定要先生成项目版本哦)公开项目\n",
    "\n",
    "![](https://ai-studio-static-online.cdn.bcebos.com/8a6a2352f11c4f3e967bdd061f881efc5106827c55c445eabb060b882bf6c827)"
   ]
  },
  {
   "cell_type": "markdown",
   "metadata": {
    "collapsed": false
   },
   "source": [
    "# 七、寄语\n",
    "\n",
    "<font size=4>\n",
    "\n",
    "最后祝愿大家都能完成本次作业，圆满结业，拿到属于自己独一无二的结业证书——这一次训练营，将是你们AI之路成长的开始！\n",
    "\n",
    "希望未来的你们能够坚持在自己热爱的方向上继续自己的梦想！\n",
    "\n",
    "同时也期待你们能够在社区中创造更多有创意有价值基于飞桨系列的AI项目，发扬开源精神！\n",
    "\n",
    "<br>\n",
    "\n",
    "最后，再次祝愿大家都能顺利结业！\n",
    " </font>"
   ]
  }
 ],
 "metadata": {
  "kernelspec": {
   "display_name": "PaddlePaddle 2.0.0b0 (Python 3.5)",
   "language": "python",
   "name": "py35-paddle1.2.0"
  },
  "language_info": {
   "codemirror_mode": {
    "name": "ipython",
    "version": 3
   },
   "file_extension": ".py",
   "mimetype": "text/x-python",
   "name": "python",
   "nbconvert_exporter": "python",
   "pygments_lexer": "ipython3",
   "version": "3.7.4"
  }
 },
 "nbformat": 4,
 "nbformat_minor": 1
}
